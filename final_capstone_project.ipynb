{
    "cells": [
        {
            "metadata": {
                "collapsed": true
            },
            "cell_type": "markdown",
            "source": "# A description of the problem and a discussion of the background. "
        },
        {
            "metadata": {},
            "cell_type": "markdown",
            "source": "In this project I am going to determine how NEW YORK CITY and TORONTO are similar or dissimilar by comparing the most common venue categories in their neighborhoods.\n## Background\nNew York and Toronto, two major cities of the world. Lots of businesses and companies have their head offices in and around these cities, which urges lots of people from around the world from different proffesional background to come and settle here. Additionally, many people have to move among these two cities too, i.e., New York to Toronto or vice versa for job requirements or business needs.\nSuppose if a resident of New York has to permanently move to Toronto and he/she is searching for a place to live there. That person would like to move to similar area as their current area in New York based on nearby venues including coffee shops or schools or parks or types of restaurants, etc.\nAnd also for new comers as both cities are very diverse and are the financial capitals of their respective countries it will be helpful for someone wanting to choose between these two places for having an ideal place to live where he or she can compare things like commutiny culture, good educational institution, hangout places etc."
        },
        {
            "metadata": {},
            "cell_type": "markdown",
            "source": "# A description of the data and how it will be used to solve the problem."
        },
        {
            "metadata": {},
            "cell_type": "markdown",
            "source": "Here I will use the **Foursquare API** to get the location data to explore neighborhoods in New York City and Toronto. I will use the **explore** function to get the most common venue categories in each neighborhood, and then use this feature to group the neighborhoods into clusters. I will use the  **k-means clustering algorithm** to complete this task. Finally, I will use the **Folium library** to visualize the neighborhoods in New York City and Toronto city and their emerging clusters.\nAlong with this other libraries like **Sklearn, Pandas, Numpy, Matplotlib** will be used for the ananlysis, clustering algorithm , easy data manipulation and data visualization work.\nFirstly I will collect the datas for all the neighborhood areas in NEW YORK AND TORONTO with the help of the URLs shared with us in this course , then I will collect the latitude and longitude datas for all those neighborhoods , here also we have access to those datas in this course, then I will combine these two dataframes as we need only one clustering to \nunderstand the similarity between these two major cities.\nIn this combined data frame, I will apply K-means clustering algorithm to group similar venues and then compare each venue catego for each cities."
        },
        {
            "metadata": {},
            "cell_type": "code",
            "source": "",
            "execution_count": null,
            "outputs": []
        }
    ],
    "metadata": {
        "kernelspec": {
            "name": "python3",
            "display_name": "Python 3.6",
            "language": "python"
        },
        "language_info": {
            "name": "python",
            "version": "3.6.9",
            "mimetype": "text/x-python",
            "codemirror_mode": {
                "name": "ipython",
                "version": 3
            },
            "pygments_lexer": "ipython3",
            "nbconvert_exporter": "python",
            "file_extension": ".py"
        }
    },
    "nbformat": 4,
    "nbformat_minor": 1
}