{
    "cells": [
        {
            "metadata": {
                "collapsed": true
            },
            "cell_type": "markdown",
            "source": "# A description of the problem and a discussion of the background. "
        },
        {
            "metadata": {},
            "cell_type": "markdown",
            "source": "In this project I am going to determine how NEW YORK CITY and TORONTO are similar or dissimilar by comparing the most common venue categories in their neighborhoods.\n## Background\nAs both cities are very diverse and are the financial capitals of their respective countries it will helpful for someone wanting to choose between these two places for having an ideal\nplace to live where he or she can compare things like commutiny culture, good educational institution, hangout places etc."
        },
        {
            "metadata": {},
            "cell_type": "markdown",
            "source": "# A description of the data and how it will be used to solve the problem."
        },
        {
            "metadata": {},
            "cell_type": "markdown",
            "source": "Here I will use the **Foursquare API** to get the location data to explore neighborhoods in New York City and Toronto. I will use the **explore** function to get the most common venue categories in each neighborhood, and then use this feature to group the neighborhoods into clusters. I will use the  **k-means clustering algorithm** to complete this task. Finally, I will use the **Folium library** to visualize the neighborhoods in New York City and Toronto city and their emerging clusters.\nAlong with this other libraries like **Sklearn, Pandas, Numpy, Matplotlib** will be used for the ananlysis, clustering algorithm , easy data manipulation and data visualization work."
        },
        {
            "metadata": {},
            "cell_type": "code",
            "source": "",
            "execution_count": null,
            "outputs": []
        }
    ],
    "metadata": {
        "kernelspec": {
            "name": "python3",
            "display_name": "Python 3.6",
            "language": "python"
        },
        "language_info": {
            "name": "python",
            "version": "3.6.9",
            "mimetype": "text/x-python",
            "codemirror_mode": {
                "name": "ipython",
                "version": 3
            },
            "pygments_lexer": "ipython3",
            "nbconvert_exporter": "python",
            "file_extension": ".py"
        }
    },
    "nbformat": 4,
    "nbformat_minor": 1
}